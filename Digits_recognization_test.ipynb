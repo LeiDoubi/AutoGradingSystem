{
 "cells": [
  {
   "cell_type": "code",
   "execution_count": 1,
   "metadata": {},
   "outputs": [],
   "source": [
    "from modules.sheet_process import CoverSheet\n",
    "import cv2 as cv\n",
    "from matplotlib import pyplot as plt\n",
    "import numpy as np\n",
    "from sklearn.decomposition import PCA\n",
    "import pickle\n",
    "from scipy.ndimage import interpolation"
   ]
  },
  {
   "cell_type": "code",
   "execution_count": 2,
   "metadata": {},
   "outputs": [],
   "source": [
    "clf = pickle.load(open('SVCtrained.dms','rb'))\n",
    "pca = pickle.load(open(\"PCAtrained.dms\",'rb'))"
   ]
  },
  {
   "cell_type": "code",
   "execution_count": 335,
   "metadata": {},
   "outputs": [],
   "source": [
    "def remove_spots(img,min_size=30):\n",
    "    '''\n",
    "    remove the spots in which the number of pixels are less than min_size\n",
    "    @ param min_size int or None minimum size of the project\n",
    "        if it is defined as none then only the object has the maximal number of pixels will be reserved\n",
    "    '''\n",
    "    digit_imgs = []\n",
    "    img_copy = img.copy()\n",
    "    nb_components, labels_mask,stats,_ = cv.connectedComponentsWithStats(img, connectivity=8)\n",
    "    # iterate over each label but skip the background\n",
    "    if min_size is not None:\n",
    "        for label in range(1,nb_components):\n",
    "            # check the number of the pixels of the object\n",
    "            if stats[label,-1] < min_size:\n",
    "                img_copy[labels_mask==label] = 0\n",
    "    else:\n",
    "        label_max = np.argmax(stats[1:,-1])+1\n",
    "        img_copy = (labels_mask==label_max).astype(np.uint8)*255\n",
    "    return img_copy\n",
    "\n",
    "def moments(image):\n",
    "    c0,c1 = np.mgrid[:image.shape[0],:image.shape[1]] # A trick in numPy to create a mesh grid\n",
    "    totalImage = np.sum(image) #sum of pixels\n",
    "    m0 = np.sum(c0*image)/totalImage #mu_x\n",
    "    m1 = np.sum(c1*image)/totalImage #mu_y\n",
    "    m00 = np.sum((c0-m0)**2*image)/totalImage #var(x)\n",
    "    m11 = np.sum((c1-m1)**2*image)/totalImage #var(y)\n",
    "    m01 = np.sum((c0-m0)*(c1-m1)*image)/totalImage #covariance(x,y)\n",
    "    mu_vector = np.array([m0,m1]) # Notice that these are \\mu_x, \\mu_y respectively\n",
    "    covariance_matrix = np.array([[m00,m01],[m01,m11]]) # Do you see a similarity between the covariance matrix\n",
    "    return mu_vector, covariance_matrix\n",
    "def deskew(image,rotate = True):\n",
    "    c,v = moments(image)\n",
    "    if rotate:\n",
    "        alpha = v[0,1]/v[0,0]\n",
    "    else:\n",
    "        alpha = 0\n",
    "    affine = np.array([[1,0],[alpha,1]])\n",
    "    ocenter = np.array(image.shape)/2.0\n",
    "    offset = c-np.dot(affine,ocenter)\n",
    "    return interpolation.affine_transform(image,affine,offset=offset)\n",
    "def resize_digit(img,output_size = 28,zero_padding=3):\n",
    "    img = remove_spots(img,min_size=None)\n",
    "    contours, _= cv.findContours(img,cv.RETR_EXTERNAL,cv.CHAIN_APPROX_SIMPLE)\n",
    "    assert len(contours)==1, 'digit is broken'\n",
    "    x,y,w,h = cv.boundingRect(contours[0])\n",
    "    # extract the object\n",
    "    img = img[y:y+h,x:x+w]\n",
    "    h,w = img.shape\n",
    "    ratio = h/w\n",
    "    effective_size = output_size-zero_padding*2\n",
    "    # resize the image and reserve the ratio of the object\n",
    "    if ratio >1 :\n",
    "        img = cv.resize(\n",
    "            img,\n",
    "            (int(np.round(effective_size/ratio)),effective_size))\n",
    "        \n",
    "    else:\n",
    "        img = cv.resize(\n",
    "            img,\n",
    "            (effective_size,int(np.round(effective_size*ratio))))\n",
    "    # zero padding\n",
    "    output_img = np.zeros((output_size,output_size))\n",
    "    left_upper = (output_size//2-img.shape[0]//2,output_size//2-img.shape[1]//2)\n",
    "    output_img[left_upper[0]:left_upper[0]+img.shape[0],\n",
    "               left_upper[1]:left_upper[1]+img.shape[1]] = img\n",
    "    return output_img\n",
    "def find_digits(img):\n",
    "    outputs = []\n",
    "    x_list = []\n",
    "    contours, _= cv.findContours(img,cv.RETR_EXTERNAL,cv.CHAIN_APPROX_SIMPLE)\n",
    "    for contour in contours:\n",
    "        x,y,w,h = cv.boundingRect(contour)\n",
    "        outputs.append(img[y:y+h,x:x+w].copy())\n",
    "        x_list.append(x)\n",
    "    zipped_outputs = zip(outputs,x_list)\n",
    "    sorted_zip=sorted(zipped_outputs,key= lambda t: t[1])\n",
    "    outputs = [item[0] for item in sorted_zip]\n",
    "    return outputs"
   ]
  },
  {
   "cell_type": "code",
   "execution_count": 380,
   "metadata": {},
   "outputs": [
    {
     "data": {
      "text/plain": [
       "<matplotlib.image.AxesImage at 0x12bbe0d30>"
      ]
     },
     "execution_count": 380,
     "metadata": {},
     "output_type": "execute_result"
    },
    {
     "data": {
      "image/png": "[encoded data removed]",
      "text/plain": [
       "<Figure size 432x288 with 1 Axes>"
      ]
     },
     "metadata": {
      "needs_background": "light"
     },
     "output_type": "display_data"
    }
   ],
   "source": [
    "coversheet = CoverSheet((580,680,1290,1500),'scan/scan-33.jpg')\n",
    "img = coversheet.digits_string.img\n",
    "structure_kernel = cv.getStructuringElement(cv.MORPH_CROSS,(1,1))\n",
    "img = cv.erode(img,structure_kernel)\n",
    "img = remove_spots(img)\n",
    "plt.imshow(img)"
   ]
  },
  {
   "cell_type": "code",
   "execution_count": 381,
   "metadata": {},
   "outputs": [
    {
     "name": "stdout",
     "output_type": "stream",
     "text": [
      "  1th digit is :[8]\n",
      "  2th digit is :[5]\n",
      "  3th digit is :[3]\n",
      "  4th digit is :[5]\n",
      "  5th digit is :[2]\n"
     ]
    },
    {
     "data": {
      "image/png": "[encoded data removed]",
      "text/plain": [
       "<Figure size 432x288 with 1 Axes>"
      ]
     },
     "metadata": {
      "needs_background": "light"
     },
     "output_type": "display_data"
    },
    {
     "data": {
      "image/png": "[encoded data removed]",
      "text/plain": [
       "<Figure size 432x288 with 1 Axes>"
      ]
     },
     "metadata": {
      "needs_background": "light"
     },
     "output_type": "display_data"
    },
    {
     "data": {
      "image/png": "[encoded data removed]",
      "text/plain": [
       "<Figure size 432x288 with 1 Axes>"
      ]
     },
     "metadata": {
      "needs_background": "light"
     },
     "output_type": "display_data"
    },
    {
     "data": {
      "image/png": "[encoded data removed]",
      "text/plain": [
       "<Figure size 432x288 with 1 Axes>"
      ]
     },
     "metadata": {
      "needs_background": "light"
     },
     "output_type": "display_data"
    },
    {
     "data": {
      "image/png": "[encoded data removed]",
      "text/plain": [
       "<Figure size 432x288 with 1 Axes>"
      ]
     },
     "metadata": {
      "needs_background": "light"
     },
     "output_type": "display_data"
    }
   ],
   "source": [
    "digit_imgs =  find_digits(img)\n",
    "len(digit_imgs)\n",
    "for idx,digit_img in enumerate(digit_imgs):\n",
    "    # digit_img = remove_spots(digit_img,min_size=None)\n",
    "    digit_img = resize_digit(digit_img)\n",
    "    digit_img = deskew(digit_img,rotate=True)>10\n",
    "    plt.figure()\n",
    "    plt.imshow(digit_img)\n",
    "    print('{:3d}th digit is :{}'.format(idx+1,clf.predict(pca.transform(digit_img.reshape(1,-1)))))"
   ]
  },
  {
   "cell_type": "code",
   "execution_count": 58,
   "metadata": {},
   "outputs": [
    {
     "name": "stdout",
     "output_type": "stream",
     "text": [
      "0\n"
     ]
    }
   ],
   "source": [
    "# digit = img[20:,110:150]\n",
    "# digit = img[:,150:186]\n",
    "# digit = img[20:,40:75]\n",
    "digit = img[40:82,45:70]\n",
    "# digit = img[50:85,98:110]\n",
    "digit2= resize_digit(digit)\n",
    "digit2 = deskew(digit2,rotate=False)>30\n",
    "digit1 = resize_digit(digit)>0"
   ]
  },
  {
   "cell_type": "code",
   "execution_count": 59,
   "metadata": {
    "scrolled": false
   },
   "outputs": [
    {
     "data": {
      "text/plain": [
       "Text(0.5, 1.0, '[5]')"
      ]
     },
     "execution_count": 59,
     "metadata": {},
     "output_type": "execute_result"
    },
    {
     "data": {
      "image/png": "[encoded data removed]",
      "text/plain": [
       "<Figure size 432x288 with 2 Axes>"
      ]
     },
     "metadata": {
      "needs_background": "light"
     },
     "output_type": "display_data"
    }
   ],
   "source": [
    "plt.subplot(1,2,1)\n",
    "plt.imshow(digit2,cmap = 'gray')\n",
    "plt.title(str(clf.predict(pca.transform(digit2.reshape(1,-1)))))\n",
    "plt.subplot(1,2,2)\n",
    "plt.imshow(digit1,cmap = 'gray')\n",
    "plt.title(str(clf.predict(pca.transform(digit1.reshape(1,-1)))))"
   ]
  },
  {
   "cell_type": "code",
   "execution_count": null,
   "metadata": {},
   "outputs": [],
   "source": [
    "from sklearn.datasets import fetch_mldata\n",
    "mnist = fetch_mldata('MNIST original')"
   ]
  },
  {
   "cell_type": "code",
   "execution_count": null,
   "metadata": {},
   "outputs": [],
   "source": [
    "mnist.data.shape"
   ]
  },
  {
   "cell_type": "code",
   "execution_count": null,
   "metadata": {},
   "outputs": [],
   "source": [
    "idx = 69200\n",
    "img = mnist.data[idx].reshape(28,28)>0\n",
    "plt.imshow(img)\n",
    "print('target:{},\\t predicted:{} '.format(\n",
    "    mnist.target[idx],\n",
    "    clf.predict(pca.transform(img.reshape(1,-1)))))"
   ]
  },
  {
   "cell_type": "code",
   "execution_count": null,
   "metadata": {},
   "outputs": [],
   "source": []
  },
  {
   "cell_type": "code",
   "execution_count": null,
   "metadata": {},
   "outputs": [],
   "source": []
  }
 ],
 "metadata": {
  "kernelspec": {
   "display_name": "Python 3",
   "language": "python",
   "name": "python3"
  },
  "language_info": {
   "codemirror_mode": {
    "name": "ipython",
    "version": 3
   },
   "file_extension": ".py",
   "mimetype": "text/x-python",
   "name": "python",
   "nbconvert_exporter": "python",
   "pygments_lexer": "ipython3",
   "version": "3.6.7"
  }
 },
 "nbformat": 4,
 "nbformat_minor": 2
}
